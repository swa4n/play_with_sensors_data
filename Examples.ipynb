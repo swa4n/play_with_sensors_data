{
 "cells": [
  {
   "cell_type": "markdown",
   "metadata": {},
   "source": [
    "# Imports"
   ]
  },
  {
   "cell_type": "code",
   "execution_count": 5,
   "metadata": {},
   "outputs": [],
   "source": [
    "import pandas as pd\n",
    "import numpy as np\n",
    "\n",
    "import matplotlib.pyplot as plt\n",
    "from matplotlib import cm\n",
    "from mpl_toolkits.mplot3d import Axes3D \n",
    "\n",
    "from sklearn.preprocessing import normalize\n",
    "from sklearn.decomposition import PCA\n",
    "\n",
    "from scipy.fft import fft\n",
    "from scipy import fftpack\n",
    "\n",
    "from src.user import User\n",
    "\n",
    "%matplotlib inline"
   ]
  },
  {
   "cell_type": "markdown",
   "metadata": {},
   "source": [
    "### Find if a user has visited a given location"
   ]
  },
  {
   "cell_type": "code",
   "execution_count": 6,
   "metadata": {},
   "outputs": [
    {
     "data": {
      "text/plain": [
       "[(-49.326958000000005, -72.89073),\n",
       " (-49.32693, -72.89073),\n",
       " (-49.32716, -72.89072),\n",
       " (-49.326879999999996, -72.89085),\n",
       " (-49.326935, -72.89074000000001),\n",
       " (-49.326935, -72.89071)]"
      ]
     },
     "execution_count": 6,
     "metadata": {},
     "output_type": "execute_result"
    }
   ],
   "source": [
    "filename = \"sensors1.csv\"\n",
    "u = User(filename)\n",
    "\n",
    "location = [-49.326958,-72.89073]\n",
    "u.has_visted(location) "
   ]
  },
  {
   "cell_type": "markdown",
   "metadata": {},
   "source": [
    "### Find Home and Work locations"
   ]
  },
  {
   "cell_type": "code",
   "execution_count": 7,
   "metadata": {},
   "outputs": [
    {
     "data": {
      "text/plain": [
       "{'Home': [[-25.624615, -54.55046],\n",
       "  [51.171547, 4.34701],\n",
       "  [-34.559135, -58.411255000000004]],\n",
       " 'Work': [[51.21849, 4.4046845], [51.171547, 4.34701]]}"
      ]
     },
     "execution_count": 7,
     "metadata": {},
     "output_type": "execute_result"
    }
   ],
   "source": [
    "u.get_home_work_locations()"
   ]
  },
  {
   "cell_type": "markdown",
   "metadata": {},
   "source": [
    "#### More work to be added here in the brievest delays :) "
   ]
  }
 ],
 "metadata": {
  "kernelspec": {
   "display_name": "Python 3.6.8 64-bit ('kaggle': conda)",
   "language": "python",
   "name": "python36864bitkaggleconda6dee52c87a154b7ab8d0fb9807e20f80"
  },
  "language_info": {
   "codemirror_mode": {
    "name": "ipython",
    "version": 3
   },
   "file_extension": ".py",
   "mimetype": "text/x-python",
   "name": "python",
   "nbconvert_exporter": "python",
   "pygments_lexer": "ipython3",
   "version": "3.6.8"
  }
 },
 "nbformat": 4,
 "nbformat_minor": 2
}
